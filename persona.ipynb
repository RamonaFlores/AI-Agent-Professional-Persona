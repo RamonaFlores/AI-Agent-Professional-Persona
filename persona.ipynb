{
 "cells": [
  {
   "cell_type": "code",
   "execution_count": 3,
   "id": "b0c5a225",
   "metadata": {},
   "outputs": [],
   "source": [
    "from dotenv import load_dotenv\n",
    "from openai import OpenAI\n",
    "import json\n",
    "import os\n",
    "import requests\n",
    "from PyPDF2 import PdfReader\n",
    "import gradio as gr\n",
    "\n"
   ]
  },
  {
   "cell_type": "code",
   "execution_count": 31,
   "id": "b363afc2",
   "metadata": {},
   "outputs": [],
   "source": [
    "##The old fashioned setup\n",
    "\n",
    "##Loading the enviroment variables\n",
    "load_dotenv(override=True)\n",
    "#Creating the OpenAI client\n",
    "openai=OpenAI()\n"
   ]
  },
  {
   "cell_type": "markdown",
   "id": "b44c6fe6",
   "metadata": {},
   "source": [
    "## PushOver Related code\n",
    "\n",
    "(pushover desc)"
   ]
  },
  {
   "cell_type": "markdown",
   "id": "8dd21dd2",
   "metadata": {},
   "source": [
    "### Loading Enviroment Variables"
   ]
  },
  {
   "cell_type": "code",
   "execution_count": null,
   "id": "397e220a",
   "metadata": {},
   "outputs": [],
   "source": [
    "#Loading Pushover related  variables\n",
    "pushover_site_url=\"https://api.pushover.net/1/messages.json\"\n",
    "\n",
    "pushover_user_key = os.getenv(\"PUSHOVER_USER_KEY\")\n",
    "\n",
    "pushover_api_key = os.getenv(\"PUSHOVER_API_KEY\")\n"
   ]
  },
  {
   "cell_type": "code",
   "execution_count": null,
   "id": "e3065738",
   "metadata": {},
   "outputs": [],
   "source": [
    "#\n",
    "def pushover_notification(message):\n",
    "    \"\"\"Sends a pushover notification to the user, a  super simple POST request to the Pushover API\"\"\"\n",
    "    print(f\"Sending push notification: {message}\")\n",
    "\n",
    "    payload={\"user\": pushover_user_key,\"token\":pushover_api_key,\"message\":message}\n",
    "\n",
    "    requests.post(pushover_site_url,data=payload)"
   ]
  },
  {
   "cell_type": "markdown",
   "id": "eeeb70d8",
   "metadata": {},
   "source": [
    "## Agent Tools\n",
    "\n",
    "(Tools desc )"
   ]
  },
  {
   "cell_type": "code",
   "execution_count": 8,
   "id": "1e3f8600",
   "metadata": {},
   "outputs": [],
   "source": [
    "def record_user_details(email, name=\"Name not provided\",notes=\"not provided\"):\n",
    "    \"\"\"Tool to record user details \"\"\"\n",
    "    pushover_notification(f\"Recording user details for {name} with email {email} and notes {notes}\")\n",
    "    return {\"recorded\": \"Ok\"}"
   ]
  },
  {
   "cell_type": "code",
   "execution_count": 11,
   "id": "59f8be0c",
   "metadata": {},
   "outputs": [],
   "source": [
    "def record_unknown_question(question):\n",
    "    \"\"\"This will send a pushover notification to us , notifying us that the agent\n",
    "    was asked an unknown question\"\"\"\n",
    "    pushover_notification(f\"Recording {question}, I could not answer it\")\n",
    "    return {\"recorded\": \"Ok\"}\n"
   ]
  },
  {
   "cell_type": "code",
   "execution_count": null,
   "id": "f33c65f7",
   "metadata": {},
   "outputs": [],
   "source": [
    "#The following code is boiler plate code for the agent, it's not something you'll typically use\n",
    "#since frameworks already have this built in\n",
    "\n",
    "#The LLM will use this to decide wether it's appropiate or not to use this tool\n",
    "record_user_details_json={\n",
    "    \"name\": \"record_user_details\",\n",
    "    \"description\": \"Use this tool to record everytime a user is interested in being in touch and provided an email address\",\n",
    "    \"parameters\": {\n",
    "        \"type\":\"object\",\n",
    "        \"properties\": {\n",
    "            \"email\": {\n",
    "\n",
    "                \"type\": \"string\",\n",
    "\n",
    "                \"description\": \"the email address of the user\"\n",
    "            },\n",
    "            \"name\": {\n",
    "\n",
    "                \"type\": \"string\",\n",
    "\n",
    "                \"description\": \"the user's name, if they provided it\"\n",
    "            },\n",
    "            \"notes\": {\n",
    "\n",
    "                \"type\": \"string\",\n",
    "\n",
    "                \"description\": \"Any additional notes , information or such  about the conversation the user provided that's worth recording\"\n",
    "\n",
    "            }\n",
    "        },\n",
    "        \"required\": [\"email\"],\n",
    "        \"additionalProperties\": False\n",
    "        \n",
    "        }\n",
    "}\n"
   ]
  },
  {
   "cell_type": "code",
   "execution_count": 40,
   "id": "38c811b0",
   "metadata": {},
   "outputs": [],
   "source": [
    "record_unknown_question_json = {\n",
    "    \"name\": \"record_unknown_question\",\n",
    "    \"description\": \"Always use this tool to record any question that couldn't be answered as you didn't know the answer\",\n",
    "    \"parameters\": {\n",
    "        \"type\": \"object\",\n",
    "        \"properties\": {\n",
    "            \"question\": {\n",
    "                \"type\": \"string\",\n",
    "                \"description\": \"The question that couldn't be answered\"\n",
    "            },\n",
    "        },\n",
    "        \"required\": [\"question\"],\n",
    "        \"additionalProperties\": False\n",
    "    }\n",
    "    }"
   ]
  },
  {
   "cell_type": "code",
   "execution_count": 41,
   "id": "67f802cf",
   "metadata": {},
   "outputs": [],
   "source": [
    "#A list with the tools that the agent can use\n",
    "tools=[{\"type\":\"function\",\"function\":record_user_details_json},\n",
    "{\"type\":\"function\",\"function\":record_unknown_question_json}]"
   ]
  },
  {
   "cell_type": "code",
   "execution_count": 42,
   "id": "fda6ec43",
   "metadata": {},
   "outputs": [
    {
     "name": "stdout",
     "output_type": "stream",
     "text": [
      "Sending push notification: Recording this is a really hard question, I could not answer it\n"
     ]
    },
    {
     "data": {
      "text/plain": [
       "{'recorded': 'Ok'}"
      ]
     },
     "execution_count": 42,
     "metadata": {},
     "output_type": "execute_result"
    }
   ],
   "source": [
    "\n",
    "globals()[\"record_unknown_question\"](\"this is a really hard question\")\n"
   ]
  },
  {
   "cell_type": "code",
   "execution_count": 46,
   "id": "255fd039",
   "metadata": {},
   "outputs": [],
   "source": [
    "#Again we'll never have to do this with a framework, but it's the vainilla way to turn a json object into a function call\n",
    "def handle_tool_calls(tool_calls):\n",
    "    \"\"\"This function is used to handle the tool calls from the agent\"\"\"\n",
    "    results=[]\n",
    "    for tool_call in tool_calls:\n",
    "        tool_name=tool_call.function.name\n",
    "        arguments=json.loads(tool_call.function.arguments)\n",
    "        print(f\"The following tool was called: {tool_name}\", flush=True)\n",
    "        #we use globals() to get the tool function from the global namespace, a clever way to avoid using if statements\n",
    "        tool=globals()[tool_name]\n",
    "        #we use the tool function if it exists, otherwise we return an error\n",
    "        result=tool(**arguments) if tool else {\"error\": f\"Unknown tool: {tool_name}\"}\n",
    "        results.append({\"role\": \"tool\", \"content\": json.dumps(result),\"tool_call_id\": tool_call.id})\n",
    "    return results\n",
    "    \n",
    "    \n",
    "\n",
    "\n",
    "\n",
    "\n"
   ]
  },
  {
   "cell_type": "markdown",
   "id": "0597ea7b",
   "metadata": {},
   "source": [
    "## PDF Reader"
   ]
  },
  {
   "cell_type": "code",
   "execution_count": 47,
   "id": "5135bd2f",
   "metadata": {},
   "outputs": [],
   "source": [
    "reader=PdfReader(\"me/linkedin.pdf\")\n",
    "linkedin_text=[]\n",
    "for page in reader.pages:\n",
    "    text=page.extract_text()\n",
    "    if text:\n",
    "        linkedin_text.append(text)\n",
    "\n",
    "with open(\"me/summary.txt\",\"r\",encoding=\"utf-8\") as f:\n",
    "    summary=f.read()\n",
    "\n",
    "\n",
    "name=\"Juan José Angarita\""
   ]
  },
  {
   "cell_type": "markdown",
   "id": "94790345",
   "metadata": {},
   "source": [
    "## The Master Prompt"
   ]
  },
  {
   "cell_type": "code",
   "execution_count": 48,
   "id": "b1a3379c",
   "metadata": {},
   "outputs": [],
   "source": [
    "system_prompt = f\"\"\"\n",
    "You are acting as {name}, engaging professionally with visitors on {name}'s personal website.\n",
    "\n",
    "Your primary responsibility is to accurately and authentically represent {name}'s professional persona, answering questions related specifically to:\n",
    "- Career achievements\n",
    "- Professional background\n",
    "- Skills and expertise\n",
    "- Work experience\n",
    "- Education and certifications\n",
    "- Current projects and interests\n",
    "\n",
    "Always maintain a tone that is professional, courteous, engaging, and reflective of {name}'s communication style, as if addressing potential clients, collaborators, or employers who have visited the website.\n",
    "\n",
    "You have been provided with the following detailed resources to assist in your responses:\n",
    "\n",
    "## Professional Summary:\n",
    "{summary}\n",
    "\n",
    "## LinkedIn Profile Information:\n",
    "{linkedin_text}\n",
    "\n",
    "Guidelines for interactions:\n",
    "- When asked a question within your provided context, answer accurately and concisely, highlighting relevant experiences and skills.\n",
    "- If you encounter a question you cannot confidently answer, immediately record it using your `record_unknown_question` tool, even if the question seems trivial or unrelated to professional details.\n",
    "- Encourage deeper engagement by suggesting visitors provide their email for further communication. When visitors share their email, record it promptly using your `record_user_details` tool.\n",
    "\n",
    "Remember, your goal is to facilitate meaningful connections and professional opportunities, guiding visitors to take the next step in reaching out directly to {name} via email or another provided channel.\n",
    "\n",
    "Stay consistently in character as {name} throughout every interaction.\n",
    "\"\"\"\n"
   ]
  },
  {
   "cell_type": "markdown",
   "id": "be0884fd",
   "metadata": {},
   "source": [
    "## Chat Function"
   ]
  },
  {
   "cell_type": "code",
   "execution_count": 49,
   "id": "c11778b7",
   "metadata": {},
   "outputs": [],
   "source": [
    "def chat(message, history):\n",
    "    messages = [{\"role\": \"system\", \"content\": system_prompt}] + history + [{\"role\": \"user\", \"content\": message}]\n",
    "    done = False\n",
    "    #Loop until the conversation is done\n",
    "    while not done:\n",
    "\n",
    "        # This is the call to the LLM - see that we pass in the tools json\n",
    "\n",
    "        #we pass the same old stuff as before, but now we pass the tools json !!\n",
    "        #this lets the llm know that it can call the tools we defined above\n",
    "        response = openai.chat.completions.create(model=\"gpt-4o-mini\", messages=messages, tools=tools)\n",
    "\n",
    "        finish_reason = response.choices[0].finish_reason\n",
    "        \n",
    "        # If the LLM wants to call a tool, we do that!\n",
    "         \n",
    "        if finish_reason==\"tool_calls\":\n",
    "            message = response.choices[0].message\n",
    "            #we plug the tool calls into the handle_tool_calls function\n",
    "            tool_calls = message.tool_calls\n",
    "            #and this is where the magic happens, we call the tool functions\n",
    "            results = handle_tool_calls(tool_calls)\n",
    "            messages.append(message)\n",
    "            messages.extend(results)\n",
    "        else:\n",
    "            done = True\n",
    "    return response.choices[0].message.content"
   ]
  },
  {
   "cell_type": "code",
   "execution_count": 50,
   "id": "f07d356a",
   "metadata": {},
   "outputs": [
    {
     "name": "stdout",
     "output_type": "stream",
     "text": [
      "* Running on local URL:  http://127.0.0.1:7865\n",
      "* To create a public link, set `share=True` in `launch()`.\n"
     ]
    },
    {
     "data": {
      "text/html": [
       "<div><iframe src=\"http://127.0.0.1:7865/\" width=\"100%\" height=\"500\" allow=\"autoplay; camera; microphone; clipboard-read; clipboard-write;\" frameborder=\"0\" allowfullscreen></iframe></div>"
      ],
      "text/plain": [
       "<IPython.core.display.HTML object>"
      ]
     },
     "metadata": {},
     "output_type": "display_data"
    },
    {
     "data": {
      "text/plain": []
     },
     "execution_count": 50,
     "metadata": {},
     "output_type": "execute_result"
    }
   ],
   "source": [
    "gr.ChatInterface(chat, type=\"messages\").launch()"
   ]
  }
 ],
 "metadata": {
  "kernelspec": {
   "display_name": ".venv",
   "language": "python",
   "name": "python3"
  },
  "language_info": {
   "codemirror_mode": {
    "name": "ipython",
    "version": 3
   },
   "file_extension": ".py",
   "mimetype": "text/x-python",
   "name": "python",
   "nbconvert_exporter": "python",
   "pygments_lexer": "ipython3",
   "version": "3.12.11"
  }
 },
 "nbformat": 4,
 "nbformat_minor": 5
}
