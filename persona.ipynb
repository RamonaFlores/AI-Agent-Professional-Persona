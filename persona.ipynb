{
 "cells": [
  {
   "cell_type": "code",
   "execution_count": 3,
   "id": "b0c5a225",
   "metadata": {},
   "outputs": [],
   "source": [
    "from dotenv import load_dotenv\n",
    "from openai import OpenAI\n",
    "import json\n",
    "import os\n",
    "import requests\n",
    "from PyPDF2 import PdfReader\n",
    "import gradio as gr\n",
    "\n"
   ]
  },
  {
   "cell_type": "code",
   "execution_count": null,
   "id": "b363afc2",
   "metadata": {},
   "outputs": [],
   "source": [
    "##The old fashioned setup\n",
    "\n",
    "##Loading the enviroment variables\n",
    "load_dotenv(override=True)\n",
    "#Creating the OpenAI client\n",
    "openai=OpenAI()\n"
   ]
  },
  {
   "cell_type": "markdown",
   "id": "b44c6fe6",
   "metadata": {},
   "source": [
    "## PushOver Related code\n",
    "\n",
    "(pushover desc)"
   ]
  },
  {
   "cell_type": "markdown",
   "id": "8dd21dd2",
   "metadata": {},
   "source": [
    "### Loading Enviroment Variables"
   ]
  },
  {
   "cell_type": "code",
   "execution_count": null,
   "id": "397e220a",
   "metadata": {},
   "outputs": [],
   "source": [
    "#Loading Pushover related  variables\n",
    "pushover_site_url=\"https://api.pushover.net/1/messages.json\"\n",
    "\n",
    "pushover_user_key = os.getenv(\"PUSHOVER_USER_KEY\")\n",
    "\n",
    "pushover_api_key = os.getenv(\"PUSHOVER_API_KEY\")\n"
   ]
  },
  {
   "cell_type": "code",
   "execution_count": null,
   "id": "e3065738",
   "metadata": {},
   "outputs": [],
   "source": [
    "#\n",
    "def pushover_notification(message):\n",
    "    \"\"\"Sends a pushover notification to the user, a  super simple POST request to the Pushover API\"\"\"\n",
    "    print(f\"Sending push notification: {message}\")\n",
    "\n",
    "    payload={\"user\": pushover_user_key,\"token\":pushover_api_key,\"message\":message}\n",
    "\n",
    "    requests.post(pushover_site_url,data=payload)"
   ]
  },
  {
   "cell_type": "markdown",
   "id": "eeeb70d8",
   "metadata": {},
   "source": [
    "## Agent Tools\n",
    "\n",
    "(Tools desc )"
   ]
  },
  {
   "cell_type": "code",
   "execution_count": 8,
   "id": "1e3f8600",
   "metadata": {},
   "outputs": [],
   "source": [
    "def record_user_details(email, name=\"Name not provided\",notes=\"not provided\"):\n",
    "    \"\"\"Tool to record user details \"\"\"\n",
    "    pushover_notification(f\"Recording user details for {name} with email {email} and notes {notes}\")\n",
    "    return {\"recorded\": \"Ok\"}"
   ]
  },
  {
   "cell_type": "code",
   "execution_count": 11,
   "id": "59f8be0c",
   "metadata": {},
   "outputs": [],
   "source": [
    "def record_unknown_question(question):\n",
    "    \"\"\"This will send a pushover notification to us , notifying us that the agent\n",
    "    was asked an unknown question\"\"\"\n",
    "    pushover_notification(f\"Recording {question}, I could not answer it\")\n",
    "    return {\"recorded\": \"Ok\"}\n"
   ]
  },
  {
   "cell_type": "code",
   "execution_count": null,
   "id": "f33c65f7",
   "metadata": {},
   "outputs": [],
   "source": [
    "#The following code is boiler plate code for the agent, it's not something you'll typically use\n",
    "#since frameworks already have this built in\n",
    "\n",
    "#The LLM will use this to decide wether it's appropiate or not to use this tool\n",
    "record_user_details_json={\n",
    "    \"name\": \"record_user_details\",\n",
    "    \"description\": \"Use this tool to record everytime a user is interested in being in touch and provided an email address\",\n",
    "    \"parameters\": {\n",
    "        \"type\":\"object\",\n",
    "        \"properties\": {\n",
    "            \"email\": {\n",
    "\n",
    "                \"type\": \"string\",\n",
    "\n",
    "                \"description\": \"the email address of the user\"\n",
    "            },\n",
    "            \"name\": {\n",
    "\n",
    "                \"type\": \"string\",\n",
    "\n",
    "                \"description\": \"the user's name, if they provided it\"\n",
    "            },\n",
    "            \"notes\": {\n",
    "\n",
    "                \"type\": \"string\",\n",
    "\n",
    "                \"description\": \"Any additional notes , information or such  about the conversation the user provided that's worth recording\"\n",
    "\n",
    "            }\n",
    "        },\n",
    "        \"required\": [\"email\"],\n",
    "        \"additionalProperties\": False\n",
    "        \n",
    "        }\n",
    "}\n"
   ]
  },
  {
   "cell_type": "code",
   "execution_count": null,
   "id": "67f802cf",
   "metadata": {},
   "outputs": [],
   "source": [
    "#A list with the tools that the agent can use\n",
    "tools=[{\"type\":\"function\",\"function\":record_user_details},\n",
    "{\"type\":\"function\",\"function\":record_unknown_question}]"
   ]
  },
  {
   "cell_type": "code",
   "execution_count": null,
   "id": "255fd039",
   "metadata": {},
   "outputs": [],
   "source": []
  }
 ],
 "metadata": {
  "kernelspec": {
   "display_name": ".venv",
   "language": "python",
   "name": "python3"
  },
  "language_info": {
   "codemirror_mode": {
    "name": "ipython",
    "version": 3
   },
   "file_extension": ".py",
   "mimetype": "text/x-python",
   "name": "python",
   "nbconvert_exporter": "python",
   "pygments_lexer": "ipython3",
   "version": "3.12.11"
  }
 },
 "nbformat": 4,
 "nbformat_minor": 5
}
